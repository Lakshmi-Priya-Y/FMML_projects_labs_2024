{
  "nbformat": 4,
  "nbformat_minor": 0,
  "metadata": {
    "colab": {
      "provenance": [],
      "authorship_tag": "ABX9TyNa3nuBPzgC4Rs0m/xyYmvu",
      "include_colab_link": true
    },
    "kernelspec": {
      "name": "python3",
      "display_name": "Python 3"
    },
    "language_info": {
      "name": "python"
    }
  },
  "cells": [
    {
      "cell_type": "markdown",
      "metadata": {
        "id": "view-in-github",
        "colab_type": "text"
      },
      "source": [
        "<a href=\"https://colab.research.google.com/github/Lakshmi-Priya-Y/FMML_projects_labs_2024/blob/main/AIML_III_Module_01_Lab_02_Machine_Learning_terms_and_metrics.ipynb\" target=\"_parent\"><img src=\"https://colab.research.google.com/assets/colab-badge.svg\" alt=\"Open In Colab\"/></a>"
      ]
    },
    {
      "cell_type": "code",
      "execution_count": 485,
      "metadata": {
        "id": "QzNHLFy8E6xN"
      },
      "outputs": [],
      "source": [
        "import numpy as np\n",
        "from sklearn import datasets\n",
        "import matplotlib.pyplot as plt\n",
        "\n",
        "rng = np.random.default_rng(seed=42)"
      ]
    },
    {
      "cell_type": "markdown",
      "source": [
        "Using Diabetes Dataset from sklearn"
      ],
      "metadata": {
        "id": "a-bG0oQx9bLW"
      }
    },
    {
      "cell_type": "code",
      "source": [
        "from sklearn.datasets import load_diabetes\n",
        "dataset = load_diabetes()\n",
        "print(dataset.DESCR)"
      ],
      "metadata": {
        "colab": {
          "base_uri": "https://localhost:8080/"
        },
        "id": "wySJVKMcM4uR",
        "outputId": "20defb5d-e8f8-487f-a971-a5fb5aac2c43"
      },
      "execution_count": 486,
      "outputs": [
        {
          "output_type": "stream",
          "name": "stdout",
          "text": [
            ".. _diabetes_dataset:\n",
            "\n",
            "Diabetes dataset\n",
            "----------------\n",
            "\n",
            "Ten baseline variables, age, sex, body mass index, average blood\n",
            "pressure, and six blood serum measurements were obtained for each of n =\n",
            "442 diabetes patients, as well as the response of interest, a\n",
            "quantitative measure of disease progression one year after baseline.\n",
            "\n",
            "**Data Set Characteristics:**\n",
            "\n",
            "  :Number of Instances: 442\n",
            "\n",
            "  :Number of Attributes: First 10 columns are numeric predictive values\n",
            "\n",
            "  :Target: Column 11 is a quantitative measure of disease progression one year after baseline\n",
            "\n",
            "  :Attribute Information:\n",
            "      - age     age in years\n",
            "      - sex\n",
            "      - bmi     body mass index\n",
            "      - bp      average blood pressure\n",
            "      - s1      tc, total serum cholesterol\n",
            "      - s2      ldl, low-density lipoproteins\n",
            "      - s3      hdl, high-density lipoproteins\n",
            "      - s4      tch, total cholesterol / HDL\n",
            "      - s5      ltg, possibly log of serum triglycerides level\n",
            "      - s6      glu, blood sugar level\n",
            "\n",
            "Note: Each of these 10 feature variables have been mean centered and scaled by the standard deviation times the square root of `n_samples` (i.e. the sum of squares of each column totals 1).\n",
            "\n",
            "Source URL:\n",
            "https://www4.stat.ncsu.edu/~boos/var.select/diabetes.html\n",
            "\n",
            "For more information see:\n",
            "Bradley Efron, Trevor Hastie, Iain Johnstone and Robert Tibshirani (2004) \"Least Angle Regression,\" Annals of Statistics (with discussion), 407-499.\n",
            "(https://web.stanford.edu/~hastie/Papers/LARS/LeastAngle_2002.pdf)\n",
            "\n"
          ]
        }
      ]
    },
    {
      "cell_type": "code",
      "source": [
        "print(\"Original Target Values: \",dataset.target)\n",
        "dataset.target = dataset.target.astype(int)\n",
        "print(\"Target values after conversion: \",dataset.target)\n",
        "print(\"Input variables shape: \",dataset.data.shape)\n",
        "print(\"Output variables shape: \",dataset.target.shape)"
      ],
      "metadata": {
        "colab": {
          "base_uri": "https://localhost:8080/"
        },
        "id": "9BfvxlDrQRVx",
        "outputId": "eb843272-5aaf-4154-8192-fa77278306e3"
      },
      "execution_count": 487,
      "outputs": [
        {
          "output_type": "stream",
          "name": "stdout",
          "text": [
            "Original Target Values:  [151.  75. 141. 206. 135.  97. 138.  63. 110. 310. 101.  69. 179. 185.\n",
            " 118. 171. 166. 144.  97. 168.  68.  49.  68. 245. 184. 202. 137.  85.\n",
            " 131. 283. 129.  59. 341.  87.  65. 102. 265. 276. 252.  90. 100.  55.\n",
            "  61.  92. 259.  53. 190. 142.  75. 142. 155. 225.  59. 104. 182. 128.\n",
            "  52.  37. 170. 170.  61. 144.  52. 128.  71. 163. 150.  97. 160. 178.\n",
            "  48. 270. 202. 111.  85.  42. 170. 200. 252. 113. 143.  51.  52. 210.\n",
            "  65. 141.  55. 134.  42. 111.  98. 164.  48.  96.  90. 162. 150. 279.\n",
            "  92.  83. 128. 102. 302. 198.  95.  53. 134. 144. 232.  81. 104.  59.\n",
            " 246. 297. 258. 229. 275. 281. 179. 200. 200. 173. 180.  84. 121. 161.\n",
            "  99. 109. 115. 268. 274. 158. 107.  83. 103. 272.  85. 280. 336. 281.\n",
            " 118. 317. 235.  60. 174. 259. 178. 128.  96. 126. 288.  88. 292.  71.\n",
            " 197. 186.  25.  84.  96. 195.  53. 217. 172. 131. 214.  59.  70. 220.\n",
            " 268. 152.  47.  74. 295. 101. 151. 127. 237. 225.  81. 151. 107.  64.\n",
            " 138. 185. 265. 101. 137. 143. 141.  79. 292. 178.  91. 116.  86. 122.\n",
            "  72. 129. 142.  90. 158.  39. 196. 222. 277.  99. 196. 202. 155.  77.\n",
            " 191.  70.  73.  49.  65. 263. 248. 296. 214. 185.  78.  93. 252. 150.\n",
            "  77. 208.  77. 108. 160.  53. 220. 154. 259.  90. 246. 124.  67.  72.\n",
            " 257. 262. 275. 177.  71.  47. 187. 125.  78.  51. 258. 215. 303. 243.\n",
            "  91. 150. 310. 153. 346.  63.  89.  50.  39. 103. 308. 116. 145.  74.\n",
            "  45. 115. 264.  87. 202. 127. 182. 241.  66.  94. 283.  64. 102. 200.\n",
            " 265.  94. 230. 181. 156. 233.  60. 219.  80.  68. 332. 248.  84. 200.\n",
            "  55.  85.  89.  31. 129.  83. 275.  65. 198. 236. 253. 124.  44. 172.\n",
            " 114. 142. 109. 180. 144. 163. 147.  97. 220. 190. 109. 191. 122. 230.\n",
            " 242. 248. 249. 192. 131. 237.  78. 135. 244. 199. 270. 164.  72.  96.\n",
            " 306.  91. 214.  95. 216. 263. 178. 113. 200. 139. 139.  88. 148.  88.\n",
            " 243.  71.  77. 109. 272.  60.  54. 221.  90. 311. 281. 182. 321.  58.\n",
            " 262. 206. 233. 242. 123. 167.  63. 197.  71. 168. 140. 217. 121. 235.\n",
            " 245.  40.  52. 104. 132.  88.  69. 219.  72. 201. 110.  51. 277.  63.\n",
            " 118.  69. 273. 258.  43. 198. 242. 232. 175.  93. 168. 275. 293. 281.\n",
            "  72. 140. 189. 181. 209. 136. 261. 113. 131. 174. 257.  55.  84.  42.\n",
            " 146. 212. 233.  91. 111. 152. 120.  67. 310.  94. 183.  66. 173.  72.\n",
            "  49.  64.  48. 178. 104. 132. 220.  57.]\n",
            "Target values after conversion:  [151  75 141 206 135  97 138  63 110 310 101  69 179 185 118 171 166 144\n",
            "  97 168  68  49  68 245 184 202 137  85 131 283 129  59 341  87  65 102\n",
            " 265 276 252  90 100  55  61  92 259  53 190 142  75 142 155 225  59 104\n",
            " 182 128  52  37 170 170  61 144  52 128  71 163 150  97 160 178  48 270\n",
            " 202 111  85  42 170 200 252 113 143  51  52 210  65 141  55 134  42 111\n",
            "  98 164  48  96  90 162 150 279  92  83 128 102 302 198  95  53 134 144\n",
            " 232  81 104  59 246 297 258 229 275 281 179 200 200 173 180  84 121 161\n",
            "  99 109 115 268 274 158 107  83 103 272  85 280 336 281 118 317 235  60\n",
            " 174 259 178 128  96 126 288  88 292  71 197 186  25  84  96 195  53 217\n",
            " 172 131 214  59  70 220 268 152  47  74 295 101 151 127 237 225  81 151\n",
            " 107  64 138 185 265 101 137 143 141  79 292 178  91 116  86 122  72 129\n",
            " 142  90 158  39 196 222 277  99 196 202 155  77 191  70  73  49  65 263\n",
            " 248 296 214 185  78  93 252 150  77 208  77 108 160  53 220 154 259  90\n",
            " 246 124  67  72 257 262 275 177  71  47 187 125  78  51 258 215 303 243\n",
            "  91 150 310 153 346  63  89  50  39 103 308 116 145  74  45 115 264  87\n",
            " 202 127 182 241  66  94 283  64 102 200 265  94 230 181 156 233  60 219\n",
            "  80  68 332 248  84 200  55  85  89  31 129  83 275  65 198 236 253 124\n",
            "  44 172 114 142 109 180 144 163 147  97 220 190 109 191 122 230 242 248\n",
            " 249 192 131 237  78 135 244 199 270 164  72  96 306  91 214  95 216 263\n",
            " 178 113 200 139 139  88 148  88 243  71  77 109 272  60  54 221  90 311\n",
            " 281 182 321  58 262 206 233 242 123 167  63 197  71 168 140 217 121 235\n",
            " 245  40  52 104 132  88  69 219  72 201 110  51 277  63 118  69 273 258\n",
            "  43 198 242 232 175  93 168 275 293 281  72 140 189 181 209 136 261 113\n",
            " 131 174 257  55  84  42 146 212 233  91 111 152 120  67 310  94 183  66\n",
            " 173  72  49  64  48 178 104 132 220  57]\n",
            "Input variables shape:  (442, 10)\n",
            "Output variables shape:  (442,)\n"
          ]
        }
      ]
    },
    {
      "cell_type": "code",
      "source": [
        "def nn1(traindata,trainlabel,query):\n",
        "  difference = (traindata - query)\n",
        "  square = difference*difference\n",
        "  distance = np.sqrt(square.sum(axis = 1))\n",
        "  label = trainlabel[np.argmin(distance)]\n",
        "  return label\n",
        "\n",
        "def nn(traindata,trainlabel,testdata,n_neighbors=1):\n",
        "  predictlabel = np.array([nn1(traindata,trainlabel,i) for i in testdata])\n",
        "  return predictlabel"
      ],
      "metadata": {
        "id": "_YiIj-LMQVld"
      },
      "execution_count": 488,
      "outputs": []
    },
    {
      "cell_type": "markdown",
      "source": [
        "Random Classifier"
      ],
      "metadata": {
        "id": "uZotxeC7Qa0h"
      }
    },
    {
      "cell_type": "code",
      "source": [
        "def RandomClassifier(traindata,trainlabel,testdata):\n",
        "  classes = np.unique(trainlabel)\n",
        "  rints = np.random.randint(low=0,high=len(classes),size= len(testdata))\n",
        "  predictlabel =  classes[rints]\n",
        "  return predictlabel"
      ],
      "metadata": {
        "id": "eHpuOoZqQZxu"
      },
      "execution_count": 489,
      "outputs": []
    },
    {
      "cell_type": "markdown",
      "source": [
        "Accuracy"
      ],
      "metadata": {
        "id": "s45OUA5xQv1C"
      }
    },
    {
      "cell_type": "code",
      "source": [
        "def accuracy(gtlabel,predlabel):\n",
        "  assert len(gtlabel) == len(predlabel)\n",
        "  correct = (gtlabel == predlabel).sum()\n",
        "  return correct/len(gtlabel)"
      ],
      "metadata": {
        "id": "XIRrghtxQeiq"
      },
      "execution_count": 490,
      "outputs": []
    },
    {
      "cell_type": "markdown",
      "source": [
        "Splitting the dataset into training and testing sets"
      ],
      "metadata": {
        "id": "oDfNYhu0eQ0p"
      }
    },
    {
      "cell_type": "code",
      "source": [
        "def split(data, label, percent, random_state=None):\n",
        "  if not (0 <= percent <= 1):\n",
        "    raise ValueError(\"Validation percentage must be between 0 and 1.\")\n",
        "\n",
        "  if random_state is not None:\n",
        "    np.random.seed(random_state)\n",
        "\n",
        "  rnd = np.random.rand(len(label))  # Generate random values\n",
        "\n",
        "  split1 = rnd < percent\n",
        "  split2 = rnd >= percent\n",
        "\n",
        "  split1data = data[split1, :]\n",
        "  split1label = label[split1]\n",
        "  split2data = data[split2, :]\n",
        "  split2label = label[split2]\n",
        "\n",
        "  return split1data, split1label, split2data, split2label\n"
      ],
      "metadata": {
        "id": "f5KiKh4MeL7s"
      },
      "execution_count": 491,
      "outputs": []
    },
    {
      "cell_type": "markdown",
      "source": [
        "Reserving 20% of dataset as the test set"
      ],
      "metadata": {
        "id": "DLMoR7rGfIov"
      }
    },
    {
      "cell_type": "code",
      "source": [
        "testdata,testlabel,alltraindata,alltrainlabel = split(dataset.data,dataset.target,20/100)\n",
        "print(\"Number of test samples: \",len(testlabel))\n",
        "print(\"Number of train samples: \",len(alltrainlabel))\n",
        "print(\"Percent of test data: \",len(testlabel)*100/len(dataset.target),\"%\")"
      ],
      "metadata": {
        "colab": {
          "base_uri": "https://localhost:8080/"
        },
        "id": "PpwjI-IUfGAK",
        "outputId": "c3a6c92f-b075-41cc-b1e9-b796ac7f3c4e"
      },
      "execution_count": 492,
      "outputs": [
        {
          "output_type": "stream",
          "name": "stdout",
          "text": [
            "Number of test samples:  96\n",
            "Number of train samples:  346\n",
            "Percent of test data:  21.71945701357466 %\n"
          ]
        }
      ]
    },
    {
      "cell_type": "markdown",
      "source": [
        "#Experiments with splits"
      ],
      "metadata": {
        "id": "_9CxWZuDfyha"
      }
    },
    {
      "cell_type": "markdown",
      "source": [
        "Reserving some of training data as validation set"
      ],
      "metadata": {
        "id": "x65AwIDDf1vK"
      }
    },
    {
      "cell_type": "code",
      "source": [
        "traindata,trainlabel,valdata,vallabel = split(alltraindata,alltrainlabel,75/100)\n"
      ],
      "metadata": {
        "id": "Byv0KLKCftUp"
      },
      "execution_count": 493,
      "outputs": []
    },
    {
      "cell_type": "markdown",
      "source": [
        "Accuracy of classifiers on the training dataset"
      ],
      "metadata": {
        "id": "xu1hqNrClq3w"
      }
    },
    {
      "cell_type": "code",
      "source": [
        "trainpred = nn(traindata,trainlabel,traindata)\n",
        "trainAccuracy =  accuracy(trainlabel,trainpred)\n",
        "print(\"Training accuracy using Nearest Neighbour Algorithm: \",trainAccuracy*100,\"%\")\n",
        "\n",
        "trainpred = RandomClassifier(traindata,trainlabel,traindata)\n",
        "trainAccuracy = accuracy(trainlabel,trainpred)\n",
        "print(\"Training accuracy using Random Classifier: \",trainAccuracy*100,\"%\")"
      ],
      "metadata": {
        "colab": {
          "base_uri": "https://localhost:8080/"
        },
        "id": "fZK3ol0xf_0v",
        "outputId": "a0e95ce1-ffa9-46d7-e6bc-f2aff5830423"
      },
      "execution_count": 494,
      "outputs": [
        {
          "output_type": "stream",
          "name": "stdout",
          "text": [
            "Training accuracy using Nearest Neighbour Algorithm:  100.0 %\n",
            "Training accuracy using Random Classifier:  0.411522633744856 %\n"
          ]
        }
      ]
    },
    {
      "cell_type": "code",
      "source": [
        "valpred = nn(traindata,trainlabel,valdata)\n",
        "valAccuracy = accuracy(vallabel,valpred)\n",
        "print(\"Validation accuracy using Nearest Neighbour algorithm: \",valAccuracy*100,\"%\")\n",
        "\n",
        "valpred = RandomClassifier(traindata,trainlabel,valdata)\n",
        "valAccuracy = accuracy(vallabel,valpred)\n",
        "print(\"Validation accuracy using Random Classifier: \",valAccuracy*100,\"%\")"
      ],
      "metadata": {
        "colab": {
          "base_uri": "https://localhost:8080/"
        },
        "id": "4M8tnG5VmbwF",
        "outputId": "60a26054-b4b6-44ef-e822-759a0502f963"
      },
      "execution_count": 495,
      "outputs": [
        {
          "output_type": "stream",
          "name": "stdout",
          "text": [
            "Validation accuracy using Nearest Neighbour algorithm:  0.9708737864077669 %\n",
            "Validation accuracy using Random Classifier:  0.9708737864077669 %\n"
          ]
        }
      ]
    },
    {
      "cell_type": "code",
      "source": [
        "#Trying another random split and checking the validation accuracy\n",
        "traindata,trainlabel,valdata,vallabel = split(alltraindata,alltrainlabel,75/100)\n",
        "valpred = nn(traindata,trainlabel,valdata)\n",
        "valAccuracy  = accuracy(vallabel,valpred)\n",
        "print(\"Validation accuracy using nearest neighbour algorithm: \",valAccuracy*100,\"%\")"
      ],
      "metadata": {
        "colab": {
          "base_uri": "https://localhost:8080/"
        },
        "id": "7gQDEiVUng0k",
        "outputId": "348e1a9a-0ff1-41e2-fbf0-3a5869c743b0"
      },
      "execution_count": 496,
      "outputs": [
        {
          "output_type": "stream",
          "name": "stdout",
          "text": [
            "Validation accuracy using nearest neighbour algorithm:  0.0 %\n"
          ]
        }
      ]
    },
    {
      "cell_type": "markdown",
      "source": [
        "Accuracy of the Test data set"
      ],
      "metadata": {
        "id": "Q-vlK8uDock4"
      }
    },
    {
      "cell_type": "code",
      "source": [
        "testpred = nn(alltraindata,alltrainlabel,testdata)\n",
        "testAccuracy = accuracy(testlabel,testpred)\n",
        "print(\"Test Accuracy: \",testAccuracy*100,\"%\")"
      ],
      "metadata": {
        "colab": {
          "base_uri": "https://localhost:8080/"
        },
        "id": "VoPwMLssoIzF",
        "outputId": "885be87e-219c-415d-8c10-c24b2d62ca2c"
      },
      "execution_count": 497,
      "outputs": [
        {
          "output_type": "stream",
          "name": "stdout",
          "text": [
            "Test Accuracy:  3.125 %\n"
          ]
        }
      ]
    },
    {
      "cell_type": "markdown",
      "source": [
        "1. How is the accuracy of the validation set affected if we increase the percentage of validation set? What happens when we reduce it?"
      ],
      "metadata": {
        "id": "HEuBzQsr9z5x"
      }
    },
    {
      "cell_type": "code",
      "source": [
        "#Increasing the percentage of the validation set\n",
        "traindata,trainlabel,valdata,vallabel = split(alltraindata,alltrainlabel,85/100)\n",
        "valpred = nn(traindata,trainlabel,valdata)\n",
        "valAccuracy = accuracy(vallabel,valpred)\n",
        "print(\"Validation accuracy using nearest neighbour algorithm: \",valAccuracy*100,\"%\")\n",
        "\n",
        "valpred = RandomClassifier(traindata,trainlabel,valdata)\n",
        "valAccuracy = accuracy(vallabel,valpred)\n",
        "print(\"Validation accuracy using Random Classifier: \",valAccuracy*100,\"%\")"
      ],
      "metadata": {
        "id": "3c3jounSorb1",
        "colab": {
          "base_uri": "https://localhost:8080/"
        },
        "outputId": "cf188433-53fc-49c0-c1c8-cd92f58df976"
      },
      "execution_count": 498,
      "outputs": [
        {
          "output_type": "stream",
          "name": "stdout",
          "text": [
            "Validation accuracy using nearest neighbour algorithm:  0.0 %\n",
            "Validation accuracy using Random Classifier:  0.0 %\n"
          ]
        }
      ]
    },
    {
      "cell_type": "code",
      "source": [
        "#Decreasing the percentage of the validation set\n",
        "traindata,trainlabel,valdata,vallabel = split(alltraindata,alltrainlabel,20/100)\n",
        "valpred = nn(traindata,trainlabel,valdata)\n",
        "valAccuracy = accuracy(vallabel,valpred)\n",
        "print(\"Validation accuracy using nearest neighbour algorithm: \",valAccuracy*100,\"%\")\n",
        "\n",
        "valpred = RandomClassifier(traindata,trainlabel,valdata)\n",
        "valAccuracy = accuracy(vallabel,valpred)\n",
        "print(\"Validation accuracy using Random Classifier: \",valAccuracy*100,\"%\")"
      ],
      "metadata": {
        "colab": {
          "base_uri": "https://localhost:8080/"
        },
        "id": "Hcd70YKG-aMK",
        "outputId": "0d4f2f68-3823-4b69-db45-d33bd8cf7217"
      },
      "execution_count": 499,
      "outputs": [
        {
          "output_type": "stream",
          "name": "stdout",
          "text": [
            "Validation accuracy using nearest neighbour algorithm:  0.0 %\n",
            "Validation accuracy using Random Classifier:  0.0 %\n"
          ]
        }
      ]
    },
    {
      "cell_type": "markdown",
      "source": [
        "It is observed that the validation accuracy is directly proportional to the\n",
        "percentage of the validation set"
      ],
      "metadata": {
        "id": "ffGXLr9K_aLX"
      }
    },
    {
      "cell_type": "markdown",
      "source": [
        "2. How does the size of the train and validation set affect how well we can predict the accuracy on the test set using the validation set?\n"
      ],
      "metadata": {
        "id": "1cFc-zoq_qG5"
      }
    },
    {
      "cell_type": "code",
      "source": [
        "validation_percentages = np.linspace(0.01,0.99,10)\n",
        "validation_accuracies = []\n",
        "for i in validation_percentages:\n",
        "  traindata,trainlabel,valdata,vallabel = split(alltraindata,alltrainlabel,i,None)\n",
        "  valpred = nn(traindata,trainlabel,valdata)\n",
        "  valAccuracy = accuracy(vallabel,valpred)\n",
        "  validation_accuracies.append(valAccuracy)\n",
        "\n",
        "\n",
        "plt.figure(figsize=(5,6))\n",
        "plt.plot(validation_percentages*100,np.array(validation_accuracies)*100,marker='o',linestyle='-',color = 'g')\n",
        "plt.xlabel('Validation Set Percentage (%)')\n",
        "plt.ylabel('Validation Accuracy (%)')\n",
        "plt.title('Validation Accuracy vs. Validation Set Percentage (k-NN)')\n",
        "plt.grid(True)\n",
        "plt.show()\n",
        "print()\n",
        "\n",
        "\n",
        "val_accuracies = []\n",
        "for i in validation_percentages:\n",
        "  traindata,trainlabel,valdata,vallabel = split(alltraindata,alltrainlabel,i,None)\n",
        "  valpred = RandomClassifier(traindata,trainlabel,valdata)\n",
        "  valAccuracy = accuracy(vallabel,valpred)\n",
        "  val_accuracies.append(valAccuracy)\n",
        "\n",
        "plt.figure(figsize=(6,6))\n",
        "plt.plot(validation_percentages*100,np.array(val_accuracies)*100,marker='o',linestyle='-',color = 'g')\n",
        "plt.xlabel('Validation Set Percentage (%)')\n",
        "plt.ylabel('Validation Accuracy (%)')\n",
        "plt.title('Validation Accuracy vs. Validation Set Percentage (Random Classifier)')\n",
        "plt.grid(True)\n",
        "plt.show()"
      ],
      "metadata": {
        "colab": {
          "base_uri": "https://localhost:8080/",
          "height": 1000
        },
        "id": "wNma3TJy_YgX",
        "outputId": "0a981989-05b6-42ff-f94c-50c0f41ca1d6"
      },
      "execution_count": 500,
      "outputs": [
        {
          "output_type": "display_data",
          "data": {
            "text/plain": [
              "<Figure size 500x600 with 1 Axes>"
            ],
            "image/png": "[encoded data removed]"
          },
          "metadata": {}
        },
        {
          "output_type": "stream",
          "name": "stdout",
          "text": [
            "\n"
          ]
        },
        {
          "output_type": "display_data",
          "data": {
            "text/plain": [
              "<Figure size 600x600 with 1 Axes>"
            ],
            "image/png": "[encoded data removed]"
          },
          "metadata": {}
        }
      ]
    },
    {
      "cell_type": "markdown",
      "source": [
        "3. What do you think is a good percentage to reserve for the validation set so that thest two factors are balanced?\n",
        "\n",
        "20% of validation set is the common split that provides a reasonable trade off between training and validation data sizes."
      ],
      "metadata": {
        "id": "AIZpqXF_PpUU"
      }
    },
    {
      "cell_type": "markdown",
      "source": [
        "# Exercise: Try to implement a 3 nearest neighbour classifier and compare the accuracy of the 1 nearest neighbour classifier and the 3 nearest neighbour classifier on the test dataset. You can use the KNeighborsClassifier class from the scikit-learn library to implement the K-Nearest Neighbors model. You can set the number of neighbors using the n_neighbors parameter. You can also use the accuracy_score function from the scikit-learn library to calculate the accuracy of the model."
      ],
      "metadata": {
        "id": "mczQzhOQQJEE"
      }
    },
    {
      "cell_type": "code",
      "source": [
        "from sklearn.neighbors import KNeighborsClassifier\n",
        "from sklearn.metrics import accuracy_score\n",
        "\n",
        "\n",
        "def knn(n_neighbors):\n",
        "  kn = KNeighborsClassifier(n_neighbors=n_neighbors)\n",
        "  kn.fit(alltraindata,alltrainlabel)\n",
        "  y_pred = kn.predict(testdata)\n",
        "  Accuracy = accuracy_score(testlabel,y_pred)\n",
        "  return Accuracy\n",
        "\n",
        "accuracy_1nn = knn(1)\n",
        "print(\"1-NN Classifier Accuracy: {:.2f}%\".format(accuracy_1nn * 100))\n",
        "\n",
        "accuracy_3nn = knn(3)\n",
        "print(\"3-NN Classifier Accuracy: {:.2f}%\".format(accuracy_3nn * 100))\n",
        "\n",
        "\n",
        "accuracies = [accuracy_1nn,accuracy_3nn]\n",
        "knn_labels = ['1-nn','3-nn']\n",
        "\n",
        "\n",
        "plt.figure(figsize = (6,6))\n",
        "plt.bar(knn_labels,accuracies,color=['blue','green'])\n",
        "plt.xlabel('k-NN Classifier')\n",
        "plt.ylabel('Accuracy')\n",
        "plt.title('Comparison of 1-NN and 3-NN Classifier Accuracies')\n",
        "plt.ylim(0, 1)\n",
        "plt.show()"
      ],
      "metadata": {
        "colab": {
          "base_uri": "https://localhost:8080/",
          "height": 599
        },
        "id": "hJGGLVsaFyVC",
        "outputId": "1b94908d-8634-48ca-91fa-1dd486d48818"
      },
      "execution_count": 501,
      "outputs": [
        {
          "output_type": "stream",
          "name": "stdout",
          "text": [
            "1-NN Classifier Accuracy: 3.12%\n",
            "3-NN Classifier Accuracy: 0.00%\n"
          ]
        },
        {
          "output_type": "display_data",
          "data": {
            "text/plain": [
              "<Figure size 600x600 with 1 Axes>"
            ],
            "image/png": "[encoded data removed]"
          },
          "metadata": {}
        }
      ]
    },
    {
      "cell_type": "markdown",
      "source": [
        "#Multiple Splits"
      ],
      "metadata": {
        "id": "lCifEph8XIgy"
      }
    },
    {
      "cell_type": "code",
      "source": [
        "def AverageAccuracy(alldata, alllabel, splitpercent, iterations, classifier=nn):\n",
        "    total_accuracy = 0\n",
        "    for ii in range(iterations):\n",
        "        rnd = np.random.rand(len(alllabel))\n",
        "        traindata, trainlabel, valdata, vallabel = split( alldata, alllabel, splitpercent,rnd)\n",
        "        valpred = classifier(traindata, trainlabel, valdata)\n",
        "        total_accuracy += accuracy_score(vallabel, valpred)\n",
        "    return accuracy / iterations  # average of all accuracies"
      ],
      "metadata": {
        "id": "oBbq2AqoSUog"
      },
      "execution_count": 502,
      "outputs": []
    },
    {
      "cell_type": "code",
      "source": [
        "avg_acc = AverageAccuracy(alltraindata, alltrainlabel, 75 / 100, 10, classifier=nn)\n",
        "print(\"Average validation accuracy:\", avg_acc*100, \"%\")\n",
        "testpred = nn(alltraindata, alltrainlabel, testdata)\n",
        "\n",
        "print(\"Test accuracy:\", accuracy_score(testlabel, testpred)*100, \"%\")"
      ],
      "metadata": {
        "id": "rZ9e5OE12Gd4"
      },
      "execution_count": null,
      "outputs": []
    },
    {
      "cell_type": "code",
      "source": [
        "split_sizes = np.linspace(0.1, 0.9, 9)  # 10% to 90% split sizes\n",
        "iterations = 10\n",
        "\n",
        "# Store accuracy results for 1-NN and 3-NN classifiers\n",
        "accuracies_1nn = []\n",
        "accuracies_3nn = []\n",
        "\n",
        "# Iterate over split sizes and calculate accuracies\n",
        "for split_size in split_sizes:\n",
        "    avg_acc_1nn = AverageAccuracy(dataset.data, dataset.target, split_size, iterations, classifier=nn, n_neighbors=1)\n",
        "    avg_acc_3nn = AverageAccuracy(dataset.data, dataset.target, split_size, iterations, classifier=nn, n_neighbors=3)\n",
        "\n",
        "    accuracies_1nn.append(avg_acc_1nn)\n",
        "    accuracies_3nn.append(avg_acc_3nn)\n",
        "\n",
        "# Plotting the results\n",
        "plt.figure(figsize=(10, 6))\n",
        "plt.plot(split_sizes * 100, np.array(accuracies_1nn) * 100, marker='o', linestyle='-', color='b', label='1-NN')\n",
        "plt.plot(split_sizes * 100, np.array(accuracies_3nn) * 100, marker='o', linestyle='-', color='g', label='3-NN')\n",
        "plt.xlabel('Training Data Percentage (%)')\n",
        "plt.ylabel('Average Validation Accuracy (%)')\n",
        "plt.title('Comparison of 1-NN and 3-NN Classifiers Across Different Split Sizes')\n",
        "plt.legend()\n",
        "plt.grid(True)\n",
        "plt.show()"
      ],
      "metadata": {
        "id": "kuG0WtBJ2NTX"
      },
      "execution_count": null,
      "outputs": []
    }
  ]
}